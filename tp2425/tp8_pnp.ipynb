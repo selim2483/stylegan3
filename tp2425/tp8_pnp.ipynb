{
  "cells": [
    {
      "cell_type": "markdown",
      "metadata": {
        "id": "view-in-github",
        "colab_type": "text"
      },
      "source": [
        "<a href=\"https://colab.research.google.com/github/selim2483/stylegan3/blob/main/tp2425/tp8_pnp.ipynb\" target=\"_parent\"><img src=\"https://colab.research.google.com/assets/colab-badge.svg\" alt=\"Open In Colab\"/></a>"
      ]
    },
    {
      "cell_type": "markdown",
      "id": "88703323",
      "metadata": {
        "id": "88703323"
      },
      "source": [
        "# Image Deblurring with Plug-and-Play algorithms\n",
        "\n",
        "<br/><br/>\n",
        "<a target=\"_blank\" href=\"https://colab.research.google.com/github/generativemodelingmva/generativemodelingmva.github.io/blob/main/tp2425/tp8_pnp.ipynb\">\n",
        "  <img src=\"https://colab.research.google.com/assets/colab-badge.svg\" alt=\"Open In Colab\"/>\n",
        "</a>\n",
        "\n",
        "<br/><br/><br/>\n",
        "\n",
        "In this practical session, we will perform image deblurring by using several plug-and-play algorithms.\n",
        "\n",
        "You should fill the regions\n",
        "  `### TODO ###`"
      ]
    },
    {
      "cell_type": "code",
      "execution_count": 1,
      "id": "362647a0",
      "metadata": {
        "id": "362647a0",
        "outputId": "2ccddbe0-1d8e-4642-a0e7-b78ee460489a",
        "colab": {
          "base_uri": "https://localhost:8080/"
        }
      },
      "outputs": [
        {
          "output_type": "stream",
          "name": "stdout",
          "text": [
            "Mounted at /content/drive/\n",
            "/content/drive/MyDrive/Colab Notebooks\n"
          ]
        }
      ],
      "source": [
        "from google.colab import drive\n",
        "drive.mount('/content/drive/')\n",
        "\n",
        "# default directory:\n",
        "%cd /content/drive/MyDrive/Colab\\ Notebooks\n",
        "# # we advise to create a specific directory on your Google drive:\n",
        "# %cd /content/drive/MyDrive/genmod2425"
      ]
    },
    {
      "cell_type": "code",
      "execution_count": 5,
      "id": "93afa4ec",
      "metadata": {
        "id": "93afa4ec",
        "outputId": "1e8ff00f-9faf-4f74-8e40-1b2586f82a77",
        "colab": {
          "base_uri": "https://localhost:8080/"
        }
      },
      "outputs": [
        {
          "output_type": "stream",
          "name": "stdout",
          "text": [
            "2.5.1+cu124\n",
            "cuda\n",
            "Collecting deepinv\n",
            "  Cloning https://github.com/deepinv/deepinv.git to /tmp/pip-install-5iw6kthd/deepinv_5474e4e295bb412a946a0d7898cc9e32\n",
            "  Running command git clone --filter=blob:none --quiet https://github.com/deepinv/deepinv.git /tmp/pip-install-5iw6kthd/deepinv_5474e4e295bb412a946a0d7898cc9e32\n",
            "  Resolved https://github.com/deepinv/deepinv.git to commit 8d948e4e5fb331c5a6289e0d2e6c069a68b90a03\n",
            "  Installing build dependencies ... \u001b[?25l\u001b[?25hdone\n",
            "  Getting requirements to build wheel ... \u001b[?25l\u001b[?25hdone\n",
            "  Preparing metadata (pyproject.toml) ... \u001b[?25l\u001b[?25hdone\n",
            "Requirement already satisfied: numpy in /usr/local/lib/python3.11/dist-packages (from deepinv) (1.26.4)\n",
            "Requirement already satisfied: matplotlib in /usr/local/lib/python3.11/dist-packages (from deepinv) (3.10.0)\n",
            "Requirement already satisfied: hdf5storage in /usr/local/lib/python3.11/dist-packages (from deepinv) (0.1.19)\n",
            "Requirement already satisfied: tqdm in /usr/local/lib/python3.11/dist-packages (from deepinv) (4.67.1)\n",
            "Requirement already satisfied: torch in /usr/local/lib/python3.11/dist-packages (from deepinv) (2.5.1+cu124)\n",
            "Requirement already satisfied: torchvision in /usr/local/lib/python3.11/dist-packages (from deepinv) (0.20.1+cu124)\n",
            "Requirement already satisfied: torchmetrics in /usr/local/lib/python3.11/dist-packages (from deepinv) (1.6.2)\n",
            "Requirement already satisfied: einops in /usr/local/lib/python3.11/dist-packages (from deepinv) (0.8.1)\n",
            "Requirement already satisfied: wandb in /usr/local/lib/python3.11/dist-packages (from deepinv) (0.19.8)\n",
            "Requirement already satisfied: scipy in /usr/local/lib/python3.11/dist-packages (from deepinv) (1.13.1)\n",
            "Requirement already satisfied: natsort in /usr/local/lib/python3.11/dist-packages (from deepinv) (8.4.0)\n",
            "Requirement already satisfied: h5py>=2.1 in /usr/local/lib/python3.11/dist-packages (from hdf5storage->deepinv) (3.12.1)\n",
            "Requirement already satisfied: contourpy>=1.0.1 in /usr/local/lib/python3.11/dist-packages (from matplotlib->deepinv) (1.3.1)\n",
            "Requirement already satisfied: cycler>=0.10 in /usr/local/lib/python3.11/dist-packages (from matplotlib->deepinv) (0.12.1)\n",
            "Requirement already satisfied: fonttools>=4.22.0 in /usr/local/lib/python3.11/dist-packages (from matplotlib->deepinv) (4.56.0)\n",
            "Requirement already satisfied: kiwisolver>=1.3.1 in /usr/local/lib/python3.11/dist-packages (from matplotlib->deepinv) (1.4.8)\n",
            "Requirement already satisfied: packaging>=20.0 in /usr/local/lib/python3.11/dist-packages (from matplotlib->deepinv) (24.2)\n",
            "Requirement already satisfied: pillow>=8 in /usr/local/lib/python3.11/dist-packages (from matplotlib->deepinv) (11.1.0)\n",
            "Requirement already satisfied: pyparsing>=2.3.1 in /usr/local/lib/python3.11/dist-packages (from matplotlib->deepinv) (3.2.1)\n",
            "Requirement already satisfied: python-dateutil>=2.7 in /usr/local/lib/python3.11/dist-packages (from matplotlib->deepinv) (2.8.2)\n",
            "Requirement already satisfied: filelock in /usr/local/lib/python3.11/dist-packages (from torch->deepinv) (3.17.0)\n",
            "Requirement already satisfied: typing-extensions>=4.8.0 in /usr/local/lib/python3.11/dist-packages (from torch->deepinv) (4.12.2)\n",
            "Requirement already satisfied: networkx in /usr/local/lib/python3.11/dist-packages (from torch->deepinv) (3.4.2)\n",
            "Requirement already satisfied: jinja2 in /usr/local/lib/python3.11/dist-packages (from torch->deepinv) (3.1.6)\n",
            "Requirement already satisfied: fsspec in /usr/local/lib/python3.11/dist-packages (from torch->deepinv) (2024.10.0)\n",
            "Requirement already satisfied: nvidia-cuda-nvrtc-cu12==12.4.127 in /usr/local/lib/python3.11/dist-packages (from torch->deepinv) (12.4.127)\n",
            "Requirement already satisfied: nvidia-cuda-runtime-cu12==12.4.127 in /usr/local/lib/python3.11/dist-packages (from torch->deepinv) (12.4.127)\n",
            "Requirement already satisfied: nvidia-cuda-cupti-cu12==12.4.127 in /usr/local/lib/python3.11/dist-packages (from torch->deepinv) (12.4.127)\n",
            "Requirement already satisfied: nvidia-cudnn-cu12==9.1.0.70 in /usr/local/lib/python3.11/dist-packages (from torch->deepinv) (9.1.0.70)\n",
            "Requirement already satisfied: nvidia-cublas-cu12==12.4.5.8 in /usr/local/lib/python3.11/dist-packages (from torch->deepinv) (12.4.5.8)\n",
            "Requirement already satisfied: nvidia-cufft-cu12==11.2.1.3 in /usr/local/lib/python3.11/dist-packages (from torch->deepinv) (11.2.1.3)\n",
            "Requirement already satisfied: nvidia-curand-cu12==10.3.5.147 in /usr/local/lib/python3.11/dist-packages (from torch->deepinv) (10.3.5.147)\n",
            "Requirement already satisfied: nvidia-cusolver-cu12==11.6.1.9 in /usr/local/lib/python3.11/dist-packages (from torch->deepinv) (11.6.1.9)\n",
            "Requirement already satisfied: nvidia-cusparse-cu12==12.3.1.170 in /usr/local/lib/python3.11/dist-packages (from torch->deepinv) (12.3.1.170)\n",
            "Requirement already satisfied: nvidia-nccl-cu12==2.21.5 in /usr/local/lib/python3.11/dist-packages (from torch->deepinv) (2.21.5)\n",
            "Requirement already satisfied: nvidia-nvtx-cu12==12.4.127 in /usr/local/lib/python3.11/dist-packages (from torch->deepinv) (12.4.127)\n",
            "Requirement already satisfied: nvidia-nvjitlink-cu12==12.4.127 in /usr/local/lib/python3.11/dist-packages (from torch->deepinv) (12.4.127)\n",
            "Requirement already satisfied: triton==3.1.0 in /usr/local/lib/python3.11/dist-packages (from torch->deepinv) (3.1.0)\n",
            "Requirement already satisfied: sympy==1.13.1 in /usr/local/lib/python3.11/dist-packages (from torch->deepinv) (1.13.1)\n",
            "Requirement already satisfied: mpmath<1.4,>=1.1.0 in /usr/local/lib/python3.11/dist-packages (from sympy==1.13.1->torch->deepinv) (1.3.0)\n",
            "Requirement already satisfied: lightning-utilities>=0.8.0 in /usr/local/lib/python3.11/dist-packages (from torchmetrics->deepinv) (0.14.0)\n",
            "Requirement already satisfied: click!=8.0.0,>=7.1 in /usr/local/lib/python3.11/dist-packages (from wandb->deepinv) (8.1.8)\n",
            "Requirement already satisfied: docker-pycreds>=0.4.0 in /usr/local/lib/python3.11/dist-packages (from wandb->deepinv) (0.4.0)\n",
            "Requirement already satisfied: gitpython!=3.1.29,>=1.0.0 in /usr/local/lib/python3.11/dist-packages (from wandb->deepinv) (3.1.44)\n",
            "Requirement already satisfied: platformdirs in /usr/local/lib/python3.11/dist-packages (from wandb->deepinv) (4.3.6)\n",
            "Requirement already satisfied: protobuf!=4.21.0,!=5.28.0,<6,>=3.19.0 in /usr/local/lib/python3.11/dist-packages (from wandb->deepinv) (4.25.6)\n",
            "Requirement already satisfied: psutil>=5.0.0 in /usr/local/lib/python3.11/dist-packages (from wandb->deepinv) (5.9.5)\n",
            "Requirement already satisfied: pydantic<3,>=2.6 in /usr/local/lib/python3.11/dist-packages (from wandb->deepinv) (2.10.6)\n",
            "Requirement already satisfied: pyyaml in /usr/local/lib/python3.11/dist-packages (from wandb->deepinv) (6.0.2)\n",
            "Requirement already satisfied: requests<3,>=2.0.0 in /usr/local/lib/python3.11/dist-packages (from wandb->deepinv) (2.32.3)\n",
            "Requirement already satisfied: sentry-sdk>=2.0.0 in /usr/local/lib/python3.11/dist-packages (from wandb->deepinv) (2.22.0)\n",
            "Requirement already satisfied: setproctitle in /usr/local/lib/python3.11/dist-packages (from wandb->deepinv) (1.3.5)\n",
            "Requirement already satisfied: setuptools in /usr/local/lib/python3.11/dist-packages (from wandb->deepinv) (75.1.0)\n",
            "Requirement already satisfied: six>=1.4.0 in /usr/local/lib/python3.11/dist-packages (from docker-pycreds>=0.4.0->wandb->deepinv) (1.17.0)\n",
            "Requirement already satisfied: gitdb<5,>=4.0.1 in /usr/local/lib/python3.11/dist-packages (from gitpython!=3.1.29,>=1.0.0->wandb->deepinv) (4.0.12)\n",
            "Requirement already satisfied: annotated-types>=0.6.0 in /usr/local/lib/python3.11/dist-packages (from pydantic<3,>=2.6->wandb->deepinv) (0.7.0)\n",
            "Requirement already satisfied: pydantic-core==2.27.2 in /usr/local/lib/python3.11/dist-packages (from pydantic<3,>=2.6->wandb->deepinv) (2.27.2)\n",
            "Requirement already satisfied: charset-normalizer<4,>=2 in /usr/local/lib/python3.11/dist-packages (from requests<3,>=2.0.0->wandb->deepinv) (3.4.1)\n",
            "Requirement already satisfied: idna<4,>=2.5 in /usr/local/lib/python3.11/dist-packages (from requests<3,>=2.0.0->wandb->deepinv) (3.10)\n",
            "Requirement already satisfied: urllib3<3,>=1.21.1 in /usr/local/lib/python3.11/dist-packages (from requests<3,>=2.0.0->wandb->deepinv) (2.3.0)\n",
            "Requirement already satisfied: certifi>=2017.4.17 in /usr/local/lib/python3.11/dist-packages (from requests<3,>=2.0.0->wandb->deepinv) (2025.1.31)\n",
            "Requirement already satisfied: MarkupSafe>=2.0 in /usr/local/lib/python3.11/dist-packages (from jinja2->torch->deepinv) (3.0.2)\n",
            "Requirement already satisfied: smmap<6,>=3.0.1 in /usr/local/lib/python3.11/dist-packages (from gitdb<5,>=4.0.1->gitpython!=3.1.29,>=1.0.0->wandb->deepinv) (5.0.2)\n",
            "--2025-03-11 09:42:23--  https://perso.telecom-paristech.fr/aleclaire/mva/tp9.zip\n",
            "Resolving perso.telecom-paristech.fr (perso.telecom-paristech.fr)... 137.194.22.227, 2a04:8ec0:0:a::89c2:16e3\n",
            "Connecting to perso.telecom-paristech.fr (perso.telecom-paristech.fr)|137.194.22.227|:443... connected.\n",
            "HTTP request sent, awaiting response... 200 OK\n",
            "Length: 501814458 (479M) [application/zip]\n",
            "Saving to: ‘tp9.zip’\n",
            "\n",
            "tp9.zip             100%[===================>] 478.57M  8.35MB/s    in 44s     \n",
            "\n",
            "2025-03-11 09:43:09 (10.9 MB/s) - ‘tp9.zip’ saved [501814458/501814458]\n",
            "\n",
            "Archive:  tp9.zip\n",
            "   creating: ckpts/\n",
            "  inflating: ckpts/drunet_color.pth  \n",
            "  inflating: ckpts/dncnn_sigma2_color.pth  \n",
            "  inflating: ckpts/Prox-DRUNet.ckpt  \n",
            "  inflating: ckpts/GSDRUNet.ckpt     \n",
            "  inflating: ckpts/dncnn_sigma2_lipschitz_color.pth  \n",
            "   creating: im/\n",
            "  inflating: im/simpson512.png       \n",
            "  inflating: im/simpson512g.png      \n",
            "  inflating: im/simpson512gcrop.png  \n",
            "  inflating: im/simpson512crop.png   \n",
            "  inflating: im/marge.png            \n",
            "  inflating: im/homer.png            \n",
            "  inflating: im/marge2.png           \n",
            "  inflating: im/room.png             \n",
            "  inflating: im/tshirt.png           \n",
            "  inflating: im/parrots.bmp          \n",
            "  inflating: im/parrots.png          \n",
            "  inflating: im/parrots256.png       \n",
            "   creating: kernels/\n",
            "  inflating: kernels/levin0.txt      \n",
            "  inflating: kernels/levin1.txt      \n",
            "  inflating: kernels/levin2.txt      \n",
            "  inflating: kernels/levin3.txt      \n",
            "  inflating: kernels/levin4.txt      \n",
            "  inflating: kernels/levin5.txt      \n",
            "  inflating: kernels/levin6.txt      \n",
            "  inflating: kernels/levin7.txt      \n",
            "  inflating: kernels/kernel0.txt     \n",
            "  inflating: kernels/kernel1.txt     \n",
            "  inflating: kernels/kernel2.txt     \n",
            "  inflating: kernels/kernel3.txt     \n",
            "  inflating: kernels/kernel4.txt     \n",
            "  inflating: kernels/kernel5.txt     \n",
            "  inflating: kernels/kernel6.txt     \n",
            "  inflating: kernels/kernel7.txt     \n",
            "  inflating: kernels/kernel8.txt     \n",
            "  inflating: kernels/kernel9.txt     \n",
            "  inflating: kernels/kernel10.txt    \n",
            "  inflating: kernels/kernel11.txt    \n"
          ]
        }
      ],
      "source": [
        "import numpy as np\n",
        "import torch\n",
        "from torch.fft import fft2, ifft2, fftshift, ifftshift\n",
        "import matplotlib.pyplot as plt\n",
        "import time\n",
        "pi = torch.pi\n",
        "\n",
        "print(torch.__version__)\n",
        "if torch.cuda.is_available():\n",
        "    device = torch.device('cuda')\n",
        "else:\n",
        "    device = torch.device('cpu')\n",
        "print(device)\n",
        "\n",
        "# !pip install bm3d\n",
        "# !pip install deepinv\n",
        "# or last version of deepinv:\n",
        "!pip install git+https://github.com/deepinv/deepinv.git#egg=deepinv\n",
        "import deepinv as dinv\n",
        "\n",
        "# Uncomment these two lines to download the files for this session\n",
        "!wget https://perso.telecom-paristech.fr/aleclaire/mva/tp9.zip\n",
        "!unzip tp9.zip"
      ]
    },
    {
      "cell_type": "code",
      "source": [
        "import deepinv as dinv"
      ],
      "metadata": {
        "id": "8jZvj7TBlKQf"
      },
      "id": "8jZvj7TBlKQf",
      "execution_count": 2,
      "outputs": []
    },
    {
      "cell_type": "code",
      "execution_count": 3,
      "id": "27f666bd",
      "metadata": {
        "id": "27f666bd"
      },
      "outputs": [],
      "source": [
        "def rgb2gray(u):\n",
        "    return 0.2989 * u[:,:,0] + 0.5870 * u[:,:,1] + 0.1140 * u[:,:,2]\n",
        "\n",
        "def str2(chars):\n",
        "    return \"{:.2f}\".format(chars)\n",
        "\n",
        "def psnr(uref,ut,M=1):\n",
        "    rmse = np.sqrt(np.mean((np.array(uref.cpu())-np.array(ut.cpu()))**2))\n",
        "    return 20*np.log10(M/rmse)\n",
        "\n",
        "def tensor2im(x):\n",
        "    return x.detach().cpu().permute(2,3,1,0).squeeze().clip(0,1)\n",
        "\n",
        "# viewimage\n",
        "import tempfile\n",
        "import IPython\n",
        "from skimage.transform import rescale\n",
        "\n",
        "def viewimage(im, normalize=True,vmin=0,vmax=1,z=2,order=0,titre='',displayfilename=False):\n",
        "    # By default, values are scaled with black=0 and white=1\n",
        "    # In order to adapt the dynamics to the image, enter vmin and vmax as None\n",
        "    im = im.detach().cpu().permute(2,3,1,0).squeeze()\n",
        "    imin= np.array(im).astype(np.float32)\n",
        "    channel_axis = 2 if len(im.shape)>2 else None\n",
        "    imin = rescale(imin, z, order=order, channel_axis=channel_axis)\n",
        "    if normalize:\n",
        "        if vmin is None:\n",
        "            vmin = imin.min()\n",
        "        if vmax is None:\n",
        "            vmax = imin.max()\n",
        "        if np.abs(vmax-vmin)>1e-10:\n",
        "            imin = (imin.clip(vmin,vmax)-vmin)/(vmax-vmin)\n",
        "        else:\n",
        "            imin = vmin\n",
        "    else:\n",
        "        imin=imin.clip(0,255)/255\n",
        "    imin=(imin*255).astype(np.uint8)\n",
        "    filename=tempfile.mktemp(titre+'.png')\n",
        "    if displayfilename:\n",
        "        print (filename)\n",
        "    plt.imsave(filename, imin, cmap='gray')\n",
        "    IPython.display.display(IPython.display.Image(filename))\n",
        "\n",
        "\n",
        "# alternative viewimage if the other one does not work:\n",
        "def Viewimage(im,dpi=100,cmap='gray'):\n",
        "    plt.figure(dpi=dpi)\n",
        "    if cmap is None:\n",
        "        plt.imshow(np.array(im))\n",
        "    else:\n",
        "        plt.imshow(np.array(im),cmap=cmap)\n",
        "    plt.axis('off')\n",
        "    plt.show()"
      ]
    },
    {
      "cell_type": "markdown",
      "id": "45b3baf5",
      "metadata": {
        "id": "45b3baf5"
      },
      "source": [
        "<br/><br/><br/>"
      ]
    },
    {
      "cell_type": "markdown",
      "id": "4de35bf6",
      "metadata": {
        "id": "4de35bf6"
      },
      "source": [
        "# Setup: Define the Degradation Model"
      ]
    },
    {
      "cell_type": "code",
      "execution_count": 4,
      "id": "9b56ac7d",
      "metadata": {
        "id": "9b56ac7d",
        "outputId": "70063d7b-ddcb-4d59-b800-d31908ea6d24",
        "colab": {
          "base_uri": "https://localhost:8080/",
          "height": 211
        }
      },
      "outputs": [
        {
          "output_type": "error",
          "ename": "NameError",
          "evalue": "name 'torch' is not defined",
          "traceback": [
            "\u001b[0;31m---------------------------------------------------------------------------\u001b[0m",
            "\u001b[0;31mNameError\u001b[0m                                 Traceback (most recent call last)",
            "\u001b[0;32m<ipython-input-4-e75e7b901fea>\u001b[0m in \u001b[0;36m<cell line: 0>\u001b[0;34m()\u001b[0m\n\u001b[1;32m      1\u001b[0m \u001b[0;31m# Open the image\u001b[0m\u001b[0;34m\u001b[0m\u001b[0;34m\u001b[0m\u001b[0m\n\u001b[0;32m----> 2\u001b[0;31m \u001b[0mx0\u001b[0m \u001b[0;34m=\u001b[0m \u001b[0mtorch\u001b[0m\u001b[0;34m.\u001b[0m\u001b[0mtensor\u001b[0m\u001b[0;34m(\u001b[0m\u001b[0mplt\u001b[0m\u001b[0;34m.\u001b[0m\u001b[0mimread\u001b[0m\u001b[0;34m(\u001b[0m\u001b[0;34m'im/simpson512crop.png'\u001b[0m\u001b[0;34m)\u001b[0m\u001b[0;34m,\u001b[0m\u001b[0mdevice\u001b[0m\u001b[0;34m=\u001b[0m\u001b[0mdevice\u001b[0m\u001b[0;34m)\u001b[0m\u001b[0;34m\u001b[0m\u001b[0;34m\u001b[0m\u001b[0m\n\u001b[0m\u001b[1;32m      3\u001b[0m \u001b[0;31m# x0 = torch.tensor(plt.imread('im/parrots.png'),device=device); x0 = x0[100:356,370:626,:]\u001b[0m\u001b[0;34m\u001b[0m\u001b[0;34m\u001b[0m\u001b[0m\n\u001b[1;32m      4\u001b[0m \u001b[0;31m# x0 = torch.tensor(plt.imread('im/marge2.png'),device=device)\u001b[0m\u001b[0;34m\u001b[0m\u001b[0;34m\u001b[0m\u001b[0m\n\u001b[1;32m      5\u001b[0m \u001b[0;31m# x0 = torch.tensor(plt.imread('im/simpson512.png'),device=device)\u001b[0m\u001b[0;34m\u001b[0m\u001b[0;34m\u001b[0m\u001b[0m\n",
            "\u001b[0;31mNameError\u001b[0m: name 'torch' is not defined"
          ]
        }
      ],
      "source": [
        "# Open the image\n",
        "x0 = torch.tensor(plt.imread('im/simpson512crop.png'),device=device)\n",
        "# x0 = torch.tensor(plt.imread('im/parrots.png'),device=device); x0 = x0[100:356,370:626,:]\n",
        "# x0 = torch.tensor(plt.imread('im/marge2.png'),device=device)\n",
        "# x0 = torch.tensor(plt.imread('im/simpson512.png'),device=device)\n",
        "M,N,C = x0.shape\n",
        "# Permute dimensions to fit tensor convention\n",
        "x0 = x0.permute(2,0,1).unsqueeze(0)\n",
        "\n",
        "viewimage(x0)"
      ]
    },
    {
      "cell_type": "code",
      "execution_count": 5,
      "id": "b662d537",
      "metadata": {
        "id": "b662d537",
        "outputId": "c259d720-3c72-47d6-f4f2-0e1dfb28ded9",
        "colab": {
          "base_uri": "https://localhost:8080/",
          "height": 708
        }
      },
      "outputs": [
        {
          "output_type": "display_data",
          "data": {
            "text/plain": [
              "<Figure size 640x480 with 1 Axes>"
            ],
            "image/png": "[encoded data removed]"
          },
          "metadata": {}
        },
        {
          "output_type": "display_data",
          "data": {
            "image/png": "[encoded data removed]",
            "text/plain": [
              "<IPython.core.display.Image object>"
            ]
          },
          "metadata": {}
        }
      ],
      "source": [
        "# Load a blur kernel\n",
        "kt = torch.tensor(np.loadtxt('kernels/kernel8.txt'))\n",
        "# kt = np.loadtxt('kernels/levin7.txt')\n",
        "(m,n) = kt.shape\n",
        "\n",
        "plt.imshow(kt)\n",
        "plt.title('Blur kernel')\n",
        "plt.show()\n",
        "\n",
        "# Embed the kernel in a MxNx3 image, and put center at pixel (0,0)\n",
        "k = torch.zeros((M,N),device=device)\n",
        "k[0:m,0:n] = kt/torch.sum(kt)\n",
        "k = torch.roll(k,(-int(m/2),-int(n/2)),(0,1))\n",
        "k = k[None,None,:,:]\n",
        "fk = fft2(k)\n",
        "\n",
        "viewimage(fftshift(k),vmin=None,vmax=None)"
      ]
    },
    {
      "cell_type": "markdown",
      "id": "69b237e6",
      "metadata": {
        "id": "69b237e6"
      },
      "source": [
        "Implement the forward model\n",
        "$$ y = A(x_0) + \\xi $$\n",
        "where $\\xi \\sim \\mathcal{N}(0,\\nu^2 \\mathsf{Id})$.\n",
        "Write functions implementing the operator $A(x)$ and the corresponding data-fidelity term\n",
        "$$f(x) = \\frac{1}{2\\nu^2} \\|Ax-y\\|_2^2 .$$"
      ]
    },
    {
      "cell_type": "code",
      "execution_count": 6,
      "id": "1079e8c3",
      "metadata": {
        "id": "1079e8c3",
        "outputId": "c3a7cc22-cedc-4a88-edfb-0a23caa6dde5",
        "colab": {
          "base_uri": "https://localhost:8080/",
          "height": 273
        }
      },
      "outputs": [
        {
          "output_type": "display_data",
          "data": {
            "image/png": "[encoded data removed]",
            "text/plain": [
              "<IPython.core.display.Image object>"
            ]
          },
          "metadata": {}
        }
      ],
      "source": [
        "nu = .01  # noise level\n",
        "torch.manual_seed(1)  # fix random seed for reproducibility\n",
        "\n",
        "# Define corresponding operator and data-fidelity\n",
        "def A(x):\n",
        "    ### TODO ###\n",
        "    return ifft2(fk * fft2(x)).real\n",
        "\n",
        "y = A(x0) + nu*torch.randn_like(x0)\n",
        "\n",
        "def f(x):\n",
        "    ### TODO ###\n",
        "    return 0.5*(1/nu**2)*torch.sum((A(x)-y)**2)\n",
        "\n",
        "# Draw a sample of the direct model for image deblurring (apply blur and add Gaussian noise)\n",
        "\n",
        "### TODO ###\n",
        "\n",
        "viewimage(y)"
      ]
    },
    {
      "cell_type": "markdown",
      "id": "f307d160",
      "metadata": {
        "id": "f307d160"
      },
      "source": [
        "# Exercise 1: PnP-PGD with off-the-shelf denoiser\n",
        "\n",
        "In this exercise, we will solve image deblurring with the PnP-PGD algorithm:\n",
        "$$ x_{k+1} = D_\\sigma(x_k - \\tau \\nabla f(x_k)) .$$\n",
        "where $f$ is the data-fidelity term, $\\tau > 0$ is the step size, and where $D_\\sigma$ is a pre-learned denoiser."
      ]
    },
    {
      "cell_type": "markdown",
      "id": "8ae0fa5a",
      "metadata": {
        "id": "8ae0fa5a"
      },
      "source": [
        "## Load and Test a pre-learned denoiser"
      ]
    },
    {
      "cell_type": "markdown",
      "id": "e422d176",
      "metadata": {
        "id": "e422d176"
      },
      "source": [
        "In the following cell, we load a pre-learned denoiser thanks to the deepinv library.\n",
        "\n",
        "Test this denoiser by denoising a noisy version of $x_0$:\n",
        "$$ x_0 + w $$\n",
        "where $w \\sim \\mathcal{N}(0,\\nu^2 \\mathsf{Id})$."
      ]
    },
    {
      "cell_type": "code",
      "execution_count": 1,
      "id": "4448cdb4",
      "metadata": {
        "scrolled": false,
        "id": "4448cdb4",
        "outputId": "c4a49c5a-96f8-496c-b05a-7f7975237619",
        "colab": {
          "base_uri": "https://localhost:8080/",
          "height": 211
        }
      },
      "outputs": [
        {
          "output_type": "error",
          "ename": "NameError",
          "evalue": "name 'dinv' is not defined",
          "traceback": [
            "\u001b[0;31m---------------------------------------------------------------------------\u001b[0m",
            "\u001b[0;31mNameError\u001b[0m                                 Traceback (most recent call last)",
            "\u001b[0;32m<ipython-input-1-3c7dea79f082>\u001b[0m in \u001b[0;36m<cell line: 0>\u001b[0;34m()\u001b[0m\n\u001b[1;32m      3\u001b[0m \u001b[0;31m# Load the DRUNet denoiser\u001b[0m\u001b[0;34m\u001b[0m\u001b[0;34m\u001b[0m\u001b[0m\n\u001b[1;32m      4\u001b[0m \u001b[0;31m# https://deepinv.github.io/deepinv/stubs/deepinv.models.DRUNet.html\u001b[0m\u001b[0;34m\u001b[0m\u001b[0;34m\u001b[0m\u001b[0m\n\u001b[0;32m----> 5\u001b[0;31m \u001b[0mD\u001b[0m \u001b[0;34m=\u001b[0m \u001b[0mdinv\u001b[0m\u001b[0;34m.\u001b[0m\u001b[0mmodels\u001b[0m\u001b[0;34m.\u001b[0m\u001b[0mDRUNet\u001b[0m\u001b[0;34m(\u001b[0m\u001b[0mpretrained\u001b[0m\u001b[0;34m=\u001b[0m\u001b[0;34m'ckpts/drunet_color.pth'\u001b[0m\u001b[0;34m)\u001b[0m\u001b[0;34m.\u001b[0m\u001b[0mto\u001b[0m\u001b[0;34m(\u001b[0m\u001b[0mdevice\u001b[0m\u001b[0;34m)\u001b[0m\u001b[0;34m\u001b[0m\u001b[0;34m\u001b[0m\u001b[0m\n\u001b[0m\u001b[1;32m      6\u001b[0m \u001b[0;34m\u001b[0m\u001b[0m\n\u001b[1;32m      7\u001b[0m \u001b[0;31m# Load the BM3D denoiser\u001b[0m\u001b[0;34m\u001b[0m\u001b[0;34m\u001b[0m\u001b[0m\n",
            "\u001b[0;31mNameError\u001b[0m: name 'dinv' is not defined"
          ]
        }
      ],
      "source": [
        "nu = 10/255 # 0.15\n",
        "\n",
        "# Load the DRUNet denoiser\n",
        "# https://deepinv.github.io/deepinv/stubs/deepinv.models.DRUNet.html\n",
        "D = dinv.models.DRUNet(pretrained='ckpts/drunet_color.pth').to(device)\n",
        "\n",
        "# Load the BM3D denoiser\n",
        "# https://deepinv.github.io/deepinv/stubs/deepinv.models.BM3D.html\n",
        "# D = dinv.models.BM3D().to(device)\n",
        "\n",
        "# Load the DnCNN denoiser (WARNING: the proposed weights are only trained for noise level sigma = 2/255)\n",
        "# https://deepinv.github.io/deepinv/stubs/deepinv.models.DnCNN.html\n",
        "# D = dinv.models.DnCNN(pretrained='ckpts/dncnn_sigma2_color.pth').to(device)\n",
        "# D = dinv.models.DnCNN(pretrained='ckpts/dncnn_sigma2_lipschitz_color.pth').to(device)\n",
        "\n",
        "# TV denoiser (only in last version of deepinv)\n",
        "# Dtv = dinv.models.TVDenoiser().to(device)\n",
        "# def D(x,sigma):\n",
        "#   return Dtv(x,ths=2*sigma**2)\n",
        "\n",
        "# compute noisy image\n",
        "### TODO ###\n",
        "\n",
        "xnoisy = x0 + nu*torch.randn_like(x0)\n",
        "print('PSNR(x0,y) = %.2f'%psnr(x0,xnoisy))\n",
        "viewimage(xnoisy)\n",
        "\n",
        "# compute denoised image\n",
        "\n",
        "### TODO ###\n",
        "with torch.no_grad():\n",
        "  Dx = D(xnoisy,sigma=nu)\n",
        "print('PSNR(x0,Dy) = %.2f'%psnr(x0,Dx))\n",
        "viewimage(Dx)\n"
      ]
    },
    {
      "cell_type": "markdown",
      "id": "b48bcce3",
      "metadata": {
        "id": "b48bcce3"
      },
      "source": [
        "## Image deblurring with PnP-PGD"
      ]
    },
    {
      "cell_type": "markdown",
      "id": "c46c2925",
      "metadata": {
        "id": "c46c2925"
      },
      "source": [
        "In this question, we will perform deblurring with the PnP-PGD algorithm\n",
        "$$ x_{k+1} = D_\\sigma \\circ (\\operatorname{Id} - \\tau \\nabla f) (x_k) $$\n",
        "where $f(x)$ is the data-fidelity term.\n",
        "\n",
        "Recall that $\\tau$ should be $< \\frac{2}{L}$ (where $L$ is the Lipschitz constant of $\\nabla f$). If we assume that $D_\\sigma$ is averaged and that there is a fixed point, then convergence is guaranteed.\n",
        "\n",
        "Complete the following cell progressively, in order to address the following points:\n",
        "1. Implement the PnP-PGD algorithm, and display the deblurred image.\n",
        "2. Track the evolution of the PSNR.\n",
        "3. Track the evolution of the residual $r_n = \\frac{\\|x_n - x_{n-1}\\|}{\\|x_0\\|}$.\n",
        "4. Try to adjust the parameter $\\tau$ (gradient step size / strength of data-fidelity).\n",
        "5. Try to adjust the parameter $s$ (strength of the denoiser).\n"
      ]
    },
    {
      "cell_type": "code",
      "execution_count": null,
      "id": "e5c7964c",
      "metadata": {
        "scrolled": false,
        "id": "e5c7964c"
      },
      "outputs": [],
      "source": [
        "tau = 1.9*nu**2\n",
        "s = 2*nu  # strength of the denoiser (corresponding to notation sigma)\n",
        "\n",
        "# initialize\n",
        "x = y.clone()\n",
        "x.requires_grad_(True)\n",
        "normxinit = torch.linalg.vector_norm(x).item()\n",
        "\n",
        "psnrtab = []\n",
        "rtab = []\n",
        "vtab = []\n",
        "niter = 100\n",
        "t0 = time.time()\n",
        "\n",
        "print('[%4d/%4d] [%.5f s] PSNR = %.2f'%(0,niter,0,psnr(x0,y)))\n",
        "\n",
        "for it in range(niter):\n",
        "\n",
        "    ### TODO ###\n",
        "    x_ = x.clone()\n",
        "    x = x - tau * torch.autograd.grad(f(x), x, create_graph=True)[0]\n",
        "    with torch.no_grad():\n",
        "      x = D(x,sigma=s)\n",
        "\n",
        "    psnrt = psnr(x0,x.detach()).item()\n",
        "    psnrtab.append(psnrt)\n",
        "    rtab.append(torch.linalg.vector_norm(x.detach()-x_.detach()).item()/normxinit)\n",
        "\n",
        "    if (it+1)%10==0:\n",
        "        print('[%4d/%4d] [%.5f s] PSNR = %.2f'%(it+1,niter,time.time()-t0,psnrt))\n",
        "        viewimage(x)\n",
        "\n",
        "# save results\n",
        "xpgd = x.clone()\n",
        "\n",
        "plt.plot(psnrtab)\n",
        "plt.title('PSNR')\n",
        "plt.show()\n",
        "\n",
        "plt.semilogy(rtab)\n",
        "plt.title('Residual Norm')\n",
        "plt.show()\n",
        "\n",
        "plt.plot(vtab)\n",
        "plt.title('Denoiser Variations')\n",
        "plt.show()"
      ]
    },
    {
      "cell_type": "code",
      "execution_count": null,
      "id": "aa0ff500",
      "metadata": {
        "id": "aa0ff500"
      },
      "outputs": [],
      "source": [
        "# Use this cell to compare the behavior when using different denoisers\n",
        "# psnrtabtmp = psnrtab.copy()\n",
        "# rtabtmp = rtab.copy()\n",
        "# vtabtmp = vtab.copy()\n",
        "# rtab_pgd_bm3d = rtab.copy()\n",
        "# psnrtab_pgd_bm3d = psnrtab.copy()\n",
        "# vtab_pgd_bm3d = vtab.copy()\n",
        "# rtab_pgd_drunet = rtab.copy()\n",
        "# psnrtab_pgd_drunet = psnrtab.copy()\n",
        "# vtab_pgd_drunet = vtab.copy()\n",
        "# rtab_pgd_dncnn = rtab.copy()\n",
        "# psnrtab_pgd_dncnn = psnrtab.copy()\n",
        "# vtab_pgd_dncnn = vtab.copy()\n",
        "# rtab_pgd_dncnnlip = rtab.copy()\n",
        "# psnrtab_pgd_dncnnlip = psnrtab.copy()\n",
        "# vtab_pgd_dncnnlip = vtab.copy()"
      ]
    },
    {
      "cell_type": "markdown",
      "id": "70d78ae4",
      "metadata": {
        "id": "70d78ae4"
      },
      "source": [
        "Compare with explicit regularizations (Tychonov, smoothTV)."
      ]
    },
    {
      "cell_type": "code",
      "execution_count": null,
      "id": "e9f034f4",
      "metadata": {
        "scrolled": false,
        "id": "e9f034f4"
      },
      "outputs": [],
      "source": [
        "# Deblurring with Tychonov Regularization\n",
        "def tych_deblur(y,k,lam=0.01):\n",
        "    _,_,M,N = y.shape\n",
        "    xi = torch.arange(M)\n",
        "    ind = (xi>M/2)\n",
        "    xi[ind] = xi[ind]-M\n",
        "    zeta = torch.arange(N)\n",
        "    ind = (zeta>N/2)\n",
        "    zeta[ind] = zeta[ind]-N\n",
        "    Xi,Zeta = torch.meshgrid(xi,zeta,indexing='ij')\n",
        "    Xi = Xi[None,None,:,:].to(device)\n",
        "    Zeta = Zeta[None,None,:,:].to(device)\n",
        "    fh = torch.conj(fk)/(torch.abs(fk)**2 + 8 * lam * (torch.sin(pi*Xi/M)**2 + torch.sin(pi*Zeta/N)**2))\n",
        "    return ifft2(fft2(y)*fh).real\n",
        "\n",
        "xtych = tych_deblur(y,k)\n",
        "\n",
        "# Smooth TV regularization\n",
        "def stv_deblur(A,y,xinit,niter=1000,lam=0.002,ep=0.01,lr=None):\n",
        "    if lr is None:\n",
        "        lr = 1.9/(1+lam*8/ep)\n",
        "    x = xinit.clone().requires_grad_(True)\n",
        "    optim = torch.optim.SGD([x], lr=lr)\n",
        "    losslist = []\n",
        "    for it in range(niter):\n",
        "        d1 = torch.roll(x,-1,2) - x\n",
        "        d2 = torch.roll(x,-1,3) - x\n",
        "        reg = torch.sum(torch.sqrt(ep**2+d1**2+d2**2))\n",
        "        loss = torch.sum((A(x)-y)**2) + lam*reg\n",
        "        losslist.append(loss.item())\n",
        "        optim.zero_grad()\n",
        "        loss.backward()\n",
        "        optim.step()\n",
        "    return x.detach(),losslist\n",
        "\n",
        "xtv,losslist = stv_deblur(A,y,y.clone())\n",
        "# plt.plot(losslist)\n",
        "# plt.show()\n",
        "\n",
        "# Display the results\n",
        "print('PSNR(x0,xtych) = %.2f'%psnr(x0,xtych))\n",
        "viewimage(xtych)\n",
        "print('PSNR(x0,xtv) = %.2f'%psnr(x0,xtv))\n",
        "viewimage(xtv)"
      ]
    },
    {
      "cell_type": "code",
      "execution_count": null,
      "id": "a8efe6bc",
      "metadata": {
        "id": "a8efe6bc"
      },
      "outputs": [],
      "source": [
        "plt.figure(dpi=180)\n",
        "plt.subplot(2,2,1)\n",
        "plt.imshow(tensor2im(x0), cmap='gray')\n",
        "plt.title('Original',fontsize=8)\n",
        "# plt.imshow(tensor2im(y), cmap='gray')\n",
        "# plt.title('Degraded \\n PSNR='+str2(psnr(x0,y)),fontsize=8)\n",
        "plt.axis('off')\n",
        "plt.subplot(2,2,2)\n",
        "plt.imshow(tensor2im(xtych), cmap='gray')\n",
        "plt.title('Tychonov \\n PSNR='+str2(psnr(x0,xtych)),fontsize=8)\n",
        "plt.axis('off')\n",
        "plt.subplot(2,2,3)\n",
        "plt.imshow(tensor2im(xtv), cmap='gray')\n",
        "plt.title('SmoothTV \\n PSNR='+str2(psnr(x0,xtv)),fontsize=8)\n",
        "plt.axis('off')\n",
        "plt.subplot(2,2,4)\n",
        "plt.imshow(tensor2im(xpgd), cmap='gray')\n",
        "plt.title('PnP-PGD \\n PSNR='+str2(psnr(x0,xpgd)),fontsize=8)\n",
        "plt.axis('off')\n",
        "plt.show()"
      ]
    },
    {
      "cell_type": "code",
      "execution_count": null,
      "id": "d0c5385d",
      "metadata": {
        "scrolled": false,
        "id": "d0c5385d"
      },
      "outputs": [],
      "source": [
        "# plt.figure(dpi=150)\n",
        "# plt.semilogy(rtab_dncnn,label='DnCNN')\n",
        "# plt.semilogy(rtab_dncnnlip,label='DnCNNLip')\n",
        "# plt.semilogy(rtab_drunet,label='DRUNet')\n",
        "# plt.semilogy(rtab_bm3d,label='BM3D')\n",
        "# plt.legend() #(loc=1)\n",
        "# plt.title('Residual Norm')\n",
        "# plt.show()\n",
        "\n",
        "# plt.figure(dpi=150)\n",
        "# plt.plot(psnrtab_dncnn,label='DnCNN')\n",
        "# plt.plot(psnrtab_dncnnlip,label='DnCNNLip')\n",
        "# plt.plot(psnrtab_drunet,label='DRUNet')\n",
        "# plt.plot(psnrtab_bm3d,label='BM3D')\n",
        "# plt.plot([psnr(x0,xtv)]*niter,label='smoothTV')\n",
        "# plt.plot([psnr(x0,xtych)]*niter,label='Tychonov')\n",
        "# plt.legend()\n",
        "# plt.title('PSNR')\n",
        "# plt.show()\n",
        "\n",
        "# plt.figure(dpi=150)\n",
        "# plt.plot(vtab_dncnn,label='DnCNN')\n",
        "# plt.plot(vtab_dncnnlip,label='DnCNNLip')\n",
        "# plt.plot(vtab_drunet,label='DRUNet')\n",
        "# plt.plot(vtab_bm3d,label='BM3D')\n",
        "# plt.legend()\n",
        "# plt.title('Denoiser Variations')\n",
        "# plt.show()"
      ]
    },
    {
      "cell_type": "markdown",
      "id": "cf1b9db6",
      "metadata": {
        "id": "cf1b9db6"
      },
      "source": [
        "# Exercise 2: PnP-PGD with Gradient-Step Denoiser"
      ]
    },
    {
      "cell_type": "markdown",
      "id": "919d6d43",
      "metadata": {
        "id": "919d6d43"
      },
      "source": [
        "In this exercise, we will use PnP-PGD based on the gradient-step denoiser GS-DRUNet.\n",
        "\n",
        "This amounts to using the PnP-PGD algorithm\n",
        "$$ x_{k+1} = \\mathsf{Prox}_{\\tau f}\\big(x_k - \\tau  \\lambda \\nabla g_{\\sigma}(x_k) \\big) .$$\n",
        "that aims at minimizing the functional\n",
        "$$F(x) = f(x) + \\lambda g_{\\sigma}(x)$$\n",
        "where $g_{\\sigma}$ is the regularization function linked to the gradient-step denoiser.\n",
        "\n",
        "Notice that we now need to access $\\mathsf{Prox}_{\\tau f}$.\n",
        "<br/><br/>"
      ]
    },
    {
      "cell_type": "markdown",
      "id": "847fffd9",
      "metadata": {
        "id": "847fffd9"
      },
      "source": [
        "Implement the proximal operator of the data-fidelity term."
      ]
    },
    {
      "cell_type": "code",
      "execution_count": null,
      "id": "515e0078",
      "metadata": {
        "id": "515e0078"
      },
      "outputs": [],
      "source": [
        "def proxf(x,tau):\n",
        "    ### TODO ###"
      ]
    },
    {
      "cell_type": "markdown",
      "id": "844df1f3",
      "metadata": {
        "id": "844df1f3"
      },
      "source": [
        "Load and test the gradient-step DRUNet denoiser.\n",
        "\n",
        "For that, recall that the function $g_{\\sigma}$ is accessible through `D.potential`, and the corresponding gradient-step denoiser then writes\n",
        "$$ D_{\\sigma} = \\mathsf{Id} - \\nabla g_{\\sigma} .$$"
      ]
    },
    {
      "cell_type": "code",
      "execution_count": null,
      "id": "7e5f0823",
      "metadata": {
        "id": "7e5f0823"
      },
      "outputs": [],
      "source": [
        "# torch.autograd.set_grad_enabled(True)\n",
        "D=dinv.models.GSDRUNet(pretrained='ckpts/GSDRUNet.ckpt', train=False).to(device)\n",
        "\n",
        "\n",
        "### TODO ###\n",
        "\n",
        "viewimage(Dxt)"
      ]
    },
    {
      "cell_type": "markdown",
      "id": "0ce40b7e",
      "metadata": {
        "id": "0ce40b7e"
      },
      "source": [
        "### PnP-PGD with Gradient-Step Denoiser with Backtracking\n",
        "\n",
        "1) Implement the proximal gradient descent algorithm with gradient-step denoiser.\n",
        "\n",
        "Along the iterations, track the function values $F(x_k)$, the PSNR and the residual norm $r_k = \\frac{\\|x_{k}-x_{k-1}\\|}{\\|x_0\\|}$.\n",
        "\n",
        "2) Modify your code so that the output image $\\tilde{x}_k$ (variable `xvisu`) is the one obtained before the last proximal step:\n",
        "$$ x_{k+1} = \\mathsf{Prox}_{\\tau f}(\\tilde{x}_k) .$$\n",
        "You may display `xvisu` instead of `x` and track PSNR with `xvisu`.\n",
        "<!-- (In order to improve visual quality, it is useful not to apply the last data-fidelity step which adds back some noise.) <br/>\n",
        "You may also display the value $F(\\tilde{x}_k)$ which corresponds to values obtained by the HQS algorithm\n",
        "$$ \\tilde{x}_{k+1} = \\tilde{D}_\\sigma(\\mathsf{Prox}_{\\tau f}(\\tilde{x}_k))$$\n",
        "where $\\tilde{D}_\\sigma = \\mathsf{Id} - \\tau \\lambda\\nabla g_\\sigma$ is (by abuse) seen here as a proximal regularization step.\n",
        " -->\n",
        "3) Modify your code in order to include the backtracking procedure (recalled below).\n",
        "\n",
        "\n",
        "We recall here the principle of backtracking.\n",
        "Let us denote by\n",
        "$$T_\\tau(x_k) = \\mathsf{Prox}_{\\tau f}(x_k - \\tau  \\lambda \\nabla g_{\\sigma}(x_k))$$\n",
        "the PnP-PGD update. At iteration $k$, the backtracking procedure launches the loop\n",
        "$$ \\textbf{while} \\quad  F(x_k) - F(T_\\tau(x_k)) < \\frac{\\gamma}{\\tau} \\|T_\\tau(x_k) - x_k\\|^2 \\quad \\textbf{do} \\quad \\tau \\leftarrow \\eta \\tau .$$\n",
        "Once this loop finishes, we can set $x_{k+1} = T_\\tau(x_k)$.\n",
        "You may take $\\gamma = 0.4, \\eta = 0.9$."
      ]
    },
    {
      "cell_type": "code",
      "execution_count": null,
      "id": "9cc14349",
      "metadata": {
        "scrolled": false,
        "id": "9cc14349"
      },
      "outputs": [],
      "source": [
        "# GSDRUNET\n",
        "# https://deepinv.github.io/deepinv/stubs/deepinv.models.GSDRUNet.html\n",
        "D=dinv.models.GSDRUNet(pretrained='ckpts/GSDRUNet.ckpt', train=False).to(device)\n",
        "\n",
        "# Parameters\n",
        "tau = 2e-4\n",
        "s = 1.8*nu  # strength of the denoiser\n",
        "lam = 1600\n",
        "\n",
        "# Define the objective function\n",
        "def F(x, lam):\n",
        "    return lam*D.potential(x,sigma=s) + f(x)\n",
        "\n",
        "# initialize\n",
        "x = torch.clone(y).requires_grad_(True)\n",
        "normxinit = torch.linalg.vector_norm(x.detach())\n",
        "xvisuold = x.clone().detach()\n",
        "\n",
        "losstab = []\n",
        "psnrtab = []\n",
        "rtab = []\n",
        "losstab2 = []\n",
        "psnrtab2 = []\n",
        "rtab2 = []\n",
        "\n",
        "niter = 100\n",
        "t0 = time.time()\n",
        "print('[%4d/%4d] [%.5f s] PSNR = %.2f'%(0,niter,0,psnr(x0,y)))\n",
        "\n",
        "for it in range(niter):\n",
        "\n",
        "    ### TODO ###\n",
        "\n",
        "    if (it+1)%10==0:\n",
        "        print('[%4d/%4d] [%.5f s] PSNR = %.2f, F(x) = %.6f, tau = %.6f'%(it+1,niter,time.time()-t0,psnrt2,Fxnew.item(),tau))\n",
        "        viewimage(x)\n",
        "\n",
        "\n",
        "plt.plot(losstab)\n",
        "plt.title('$F(x_k)$')\n",
        "plt.legend()\n",
        "plt.show()\n",
        "\n",
        "plt.plot(psnrtab)\n",
        "plt.title('PSNR')\n",
        "plt.legend()\n",
        "plt.show()\n",
        "\n",
        "plt.semilogy(rtab)\n",
        "plt.title('Residual Norm')\n",
        "plt.legend()\n",
        "plt.show()\n",
        "\n",
        "# save results\n",
        "x_gspgd = x.detach().clone()\n",
        "losstab_gspgd = losstab.copy()\n",
        "psnrtab_gspgd = psnrtab.copy()\n",
        "rtab_gspgd = rtab.copy()\n",
        "\n",
        "# # save results\n",
        "# tmp_x_gspgd = x.detach().clone()\n",
        "# tmp_losstab_gspgd = losstab.copy()\n",
        "# tmp_psnrtab_gspgd = psnrtab.copy()\n",
        "# tmp_rtab_gspgd = rtab.copy()"
      ]
    },
    {
      "cell_type": "markdown",
      "id": "b8736dbc",
      "metadata": {
        "id": "b8736dbc"
      },
      "source": [
        "# Exercise 3: Plug-and-Play with other splitting algorithms.\n",
        "\n",
        "In this exercise, you will use Plug-and-Play algorithms based on the other splitting algorithms:\n",
        "- half-quadratic splitting (HQS)\n",
        "- Douglas-Rachford splitting (DRS)"
      ]
    },
    {
      "cell_type": "markdown",
      "id": "bacb760d",
      "metadata": {
        "id": "bacb760d"
      },
      "source": [
        "## Image deblurring with PnP-HQS"
      ]
    },
    {
      "cell_type": "markdown",
      "id": "8c215975",
      "metadata": {
        "id": "8c215975"
      },
      "source": [
        "Implement the PnP-HQS algorithm with an off-the-shelf denoiser:\n",
        "$$ x_{k+1} = D_\\sigma \\circ \\mathsf{Prox}_{\\tau f} (x_k) .$$"
      ]
    },
    {
      "cell_type": "code",
      "execution_count": null,
      "id": "9a23e12d",
      "metadata": {
        "scrolled": false,
        "id": "9a23e12d"
      },
      "outputs": [],
      "source": [
        "tau = 1.9*nu**2\n",
        "s = 2*nu  # strength of the denoiser\n",
        "\n",
        "# initialize\n",
        "x = y.clone()\n",
        "normxinit = torch.linalg.vector_norm(x)\n",
        "\n",
        "psnrtab = []\n",
        "rtab = []\n",
        "vtab = []\n",
        "niter = 100\n",
        "t0 = time.time()\n",
        "print('[%4d/%4d] [%.5f s] PSNR = %.2f'%(0,niter,0,psnr(x0,y)))\n",
        "for it in range(niter):\n",
        "\n",
        "    ### TODO ###\n",
        "\n",
        "    if (it+1)%10==0:\n",
        "        print('[%4d/%4d] [%.5f s] PSNR = %.2f'%(it+1,niter,time.time()-t0,psnrt))\n",
        "        viewimage(x)\n",
        "\n",
        "xhqs = x.clone()\n",
        "rtab_hqs = rtab.copy()\n",
        "psnrtab_hqs = psnrtab.copy()\n",
        "\n",
        "plt.plot(psnrtab)\n",
        "plt.title('PSNR')\n",
        "plt.show()\n",
        "\n",
        "plt.semilogy(rtab)\n",
        "plt.title('Residual Norm')\n",
        "plt.show()\n",
        "\n",
        "plt.plot(vtab)\n",
        "plt.title('Denoiser Variations')\n",
        "plt.show()"
      ]
    },
    {
      "cell_type": "markdown",
      "id": "5ae2d90f",
      "metadata": {
        "id": "5ae2d90f"
      },
      "source": [
        "## Image deblurring with PnP-DRS\n",
        "\n",
        "Implement the PnP-DRS algorithm with an off-the-shelf denoiser :\n",
        "$$ x_{k+1} = \\left(\\frac{1}{2} \\mathsf{Id} + \\frac{1}{2} (2 D_\\sigma - \\mathsf{Id}) \\circ (2\\mathsf{Prox}_{\\tau f}-\\mathsf{Id})\\right) (x_k) .$$\n",
        "Recall that the solution of the inverse problem is obtained after one proximal step\n",
        "$$ \\tilde{x}_k = \\mathsf{Prox}_{\\tau f} (x_k) .$$"
      ]
    },
    {
      "cell_type": "code",
      "execution_count": null,
      "id": "3d368183",
      "metadata": {
        "scrolled": false,
        "id": "3d368183"
      },
      "outputs": [],
      "source": [
        "tau = 1.9*nu**2\n",
        "s = 2*nu  # strength of the denoiser\n",
        "\n",
        "# initialize\n",
        "x = y.clone()\n",
        "normxinit = torch.linalg.vector_norm(x)\n",
        "\n",
        "psnrtab = []\n",
        "rtab = []\n",
        "niter = 100\n",
        "t0 = time.time()\n",
        "print('[%4d/%4d] [%.5f s] PSNR = %.2f'%(0,niter,0,psnr(x0,y)))\n",
        "for it in range(niter):\n",
        "\n",
        "    ### TODO ###\n",
        "\n",
        "    if (it+1)%10==0:\n",
        "        print('[%4d/%4d] [%.5f s] PSNR = %.2f'%(it+1,niter,time.time()-t0,psnrt))\n",
        "        viewimage(xtilde)\n",
        "\n",
        "xdrs = xtilde\n",
        "\n",
        "rtab_hqs = rtab.copy()\n",
        "psnrtab_hqs = psnrtab.copy()\n",
        "\n",
        "plt.plot(psnrtab)\n",
        "plt.title('PSNR')\n",
        "plt.show()\n",
        "\n",
        "plt.semilogy(rtab)\n",
        "plt.title('Residual Norm')\n",
        "plt.show()"
      ]
    },
    {
      "cell_type": "markdown",
      "id": "f821dc52",
      "metadata": {
        "id": "f821dc52"
      },
      "source": [
        "# Compare Results obtained with PGD, HQS, DRS"
      ]
    },
    {
      "cell_type": "code",
      "execution_count": null,
      "id": "4d744e78",
      "metadata": {
        "id": "4d744e78"
      },
      "outputs": [],
      "source": [
        "plt.figure(dpi=150)\n",
        "plt.semilogy(rtab_gspgd,label='PGD')\n",
        "plt.semilogy(rtab_hqs,label='HQS')\n",
        "plt.semilogy(rtab_drs,label='DRS')\n",
        "plt.legend() #(loc=1)\n",
        "plt.title('Residual Norm')\n",
        "plt.show()\n",
        "\n",
        "plt.figure(dpi=150)\n",
        "plt.plot(psnrtab_gspgd,label='PGD')\n",
        "plt.plot(psnrtab_hqs,label='HQS')\n",
        "plt.plot(psnrtab_drs,label='DRS')\n",
        "plt.plot([psnr(x0,xtv)]*niter,label='smoothTV')\n",
        "plt.plot([psnr(x0,xtych)]*niter,label='Tychonov')\n",
        "plt.legend()\n",
        "plt.title('PSNR')\n",
        "plt.show()"
      ]
    },
    {
      "cell_type": "markdown",
      "id": "67c8c1d7",
      "metadata": {
        "id": "67c8c1d7"
      },
      "source": [
        "<br/><br/><br/>"
      ]
    },
    {
      "cell_type": "markdown",
      "id": "6e90bf44",
      "metadata": {
        "id": "6e90bf44"
      },
      "source": [
        "# Exercise 4: Image super-resolution\n",
        "\n",
        "Implement a PnP algorithm that addresses image deblurring with non-periodic boundary conditions.\n",
        "\n",
        "You should adapt the codes of the previous exercises for super-resolution. The forward model for super-resolution involves an anti-aliasing filter whose Fourier transform is given in the next cell.\n",
        "\n",
        "We advise you to make a copy of the whole notebook and to make the adaptation in a separate file."
      ]
    },
    {
      "cell_type": "code",
      "execution_count": null,
      "id": "25d39e2c",
      "metadata": {
        "id": "25d39e2c"
      },
      "outputs": [],
      "source": [
        "# Adjust the framework to address super-resolution with smoothed TV\n",
        "# For anti-aliasing, you may use the Butterworth filter of order n and cut-off frequency fc\n",
        "#   given below\n",
        "\n",
        "# fc is the cut-off frequency normalized in (0,1)\n",
        "def butterworth(M,N,fc=.5,order=20):\n",
        "    xi = torch.arange(M)\n",
        "    ind = (xi>M/2)\n",
        "    xi[ind] = xi[ind]-M\n",
        "    zeta = torch.arange(N)\n",
        "    ind = (zeta>N/2)\n",
        "    zeta[ind] = zeta[ind]-N\n",
        "    Xi,Zeta = torch.meshgrid(xi,zeta,indexing='ij')\n",
        "    Xi = Xi[None,None,:,:].to(device)\n",
        "    Zeta = Zeta[None,None,:,:].to(device)\n",
        "    bf1 = 1/torch.sqrt(1+(Xi/(M*fc/2))**(2*order))\n",
        "    bf2 = 1/torch.sqrt(1+(Zeta/(N*fc/2))**(2*order))\n",
        "    return bf1*bf2\n",
        "\n",
        "bf = butterworth(M,N)\n",
        "viewimage(bf)"
      ]
    },
    {
      "cell_type": "code",
      "execution_count": null,
      "id": "fe78186a",
      "metadata": {
        "id": "fe78186a"
      },
      "outputs": [],
      "source": [
        "nu = .01  # noise level\n",
        "torch.manual_seed(1)  # fix random seed for reproducibility\n",
        "\n",
        "# Define corresponding operator and data-fidelity\n",
        "stride = 2  # downsampling factor\n",
        "def A(x):\n",
        "    ### TODO ###\n",
        "\n",
        "def f(x):\n",
        "    ### TODO ###\n",
        "\n",
        "# Draw a sample of the direct model for image deblurring (apply blur and add Gaussian noise)\n",
        "### TODO ###\n",
        "viewimage(y)"
      ]
    },
    {
      "cell_type": "code",
      "execution_count": null,
      "id": "d0a610f2",
      "metadata": {
        "scrolled": false,
        "id": "d0a610f2"
      },
      "outputs": [],
      "source": [
        "tau = 1.9*nu**2\n",
        "s = 2*nu  # strength of the denoiser\n",
        "\n",
        "# initialize\n",
        "x = torch.ones_like(x0)\n",
        "normxinit = torch.linalg.vector_norm(x)\n",
        "\n",
        "psnrtab = []\n",
        "rtab = []\n",
        "vtab = []\n",
        "niter = 100\n",
        "t0 = time.time()\n",
        "for it in range(niter):\n",
        "    ### TODO ###\n",
        "\n",
        "    if (it+1)%10==0:\n",
        "        print('[%4d/%4d] [%.5f s] PSNR = %.2f'%(it+1,niter,time.time()-t0,psnrt))\n",
        "        viewimage(x)\n",
        "\n",
        "xpgd = x\n",
        "\n",
        "plt.plot(psnrtab)\n",
        "plt.title('PSNR')\n",
        "plt.show()\n",
        "\n",
        "plt.semilogy(rtab)\n",
        "plt.title('Residual Norm')\n",
        "plt.show()\n",
        "\n",
        "plt.plot(vtab)\n",
        "plt.title('Denoiser Variations')\n",
        "plt.show()"
      ]
    }
  ],
  "metadata": {
    "kernelspec": {
      "display_name": "Python 3",
      "name": "python3"
    },
    "language_info": {
      "codemirror_mode": {
        "name": "ipython",
        "version": 3
      },
      "file_extension": ".py",
      "mimetype": "text/x-python",
      "name": "python",
      "nbconvert_exporter": "python",
      "pygments_lexer": "ipython3",
      "version": "3.11.4"
    },
    "colab": {
      "provenance": [],
      "gpuType": "T4",
      "include_colab_link": true
    },
    "accelerator": "GPU"
  },
  "nbformat": 4,
  "nbformat_minor": 5
}